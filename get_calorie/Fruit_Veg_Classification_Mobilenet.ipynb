{
 "cells": [
  {
   "cell_type": "code",
   "execution_count": 1,
   "id": "f4402ccb",
   "metadata": {
    "_cell_guid": "b1076dfc-b9ad-4769-8c92-a6c4dae69d19",
    "_uuid": "8f2839f25d086af736a60e9eeb907d3b93b6e0e5",
    "papermill": {
     "duration": 1.370405,
     "end_time": "2021-11-02T04:12:59.059493",
     "exception": false,
     "start_time": "2021-11-02T04:12:57.689088",
     "status": "completed"
    },
    "tags": []
   },
   "outputs": [],
   "source": [
    "# This Python 3 environment comes with many helpful analytics libraries installed\n",
    "# It is defined by the kaggle/python Docker image: https://github.com/kaggle/docker-python\n",
    "# For example, here's several helpful packages to load\n",
    "\n",
    "import numpy as np # linear algebra\n",
    "import pandas as pd # data processing, CSV file I/O (e.g. pd.read_csv)\n",
    "\n",
    "# Input data files are available in the read-only \"../input/\" directory\n",
    "# For example, running this (by clicking run or pressing Shift+Enter) will list all files under the input directory\n",
    "\n",
    "import os\n",
    "for dirname, _, filenames in os.walk('/kaggle/input'):\n",
    "    for filename in filenames:\n",
    "        print(os.path.join(dirname, filename))\n",
    "\n",
    "# You can write up to 20GB to the current directory (/kaggle/working/) that gets preserved as output when you create a version using \"Save & Run All\" \n",
    "# You can also write temporary files to /kaggle/temp/, but they won't be saved outside of the current session"
   ]
  },
  {
   "cell_type": "code",
   "execution_count": 2,
   "id": "3a80f008",
   "metadata": {
    "papermill": {
     "duration": 5.486991,
     "end_time": "2021-11-02T04:13:04.578852",
     "exception": false,
     "start_time": "2021-11-02T04:12:59.091861",
     "status": "completed"
    },
    "tags": []
   },
   "outputs": [
    {
     "name": "stdout",
     "output_type": "stream",
     "text": [
      "2.14.0\n"
     ]
    }
   ],
   "source": [
    "import numpy as np\n",
    "import pandas as pd\n",
    "from pathlib import Path\n",
    "import os.path\n",
    "import matplotlib.pyplot as plt\n",
    "import tensorflow as tf\n",
    "from tensorflow.keras.preprocessing.image import load_img,img_to_array\n",
    "print(tf.__version__)"
   ]
  },
  {
   "cell_type": "code",
   "execution_count": 3,
   "id": "4dffca75",
   "metadata": {
    "papermill": {
     "duration": 0.097465,
     "end_time": "2021-11-02T04:13:04.704628",
     "exception": false,
     "start_time": "2021-11-02T04:13:04.607163",
     "status": "completed"
    },
    "tags": []
   },
   "outputs": [],
   "source": [
    "# Create a list with the filepaths for training and testing\n",
    "train_dir = Path('../input/fruit-and-vegetable-image-recognition/train')\n",
    "train_filepaths = list(train_dir.glob(r'**/*.jpg'))"
   ]
  },
  {
   "cell_type": "code",
   "execution_count": 4,
   "id": "62e9db13",
   "metadata": {
    "papermill": {
     "duration": 0.065625,
     "end_time": "2021-11-02T04:13:04.798361",
     "exception": false,
     "start_time": "2021-11-02T04:13:04.732736",
     "status": "completed"
    },
    "tags": []
   },
   "outputs": [],
   "source": [
    "test_dir = Path('../input/fruit-and-vegetable-image-recognition/test')\n",
    "test_filepaths = list(test_dir.glob(r'**/*.jpg'))"
   ]
  },
  {
   "cell_type": "code",
   "execution_count": 5,
   "id": "d9efbe8a",
   "metadata": {
    "papermill": {
     "duration": 0.065947,
     "end_time": "2021-11-02T04:13:04.892592",
     "exception": false,
     "start_time": "2021-11-02T04:13:04.826645",
     "status": "completed"
    },
    "tags": []
   },
   "outputs": [],
   "source": [
    "val_dir = Path('../input/fruit-and-vegetable-image-recognition/validation')\n",
    "val_filepaths = list(test_dir.glob(r'**/*.jpg'))"
   ]
  },
  {
   "cell_type": "code",
   "execution_count": 6,
   "id": "e5f09b5c",
   "metadata": {
    "papermill": {
     "duration": 0.037108,
     "end_time": "2021-11-02T04:13:04.957704",
     "exception": false,
     "start_time": "2021-11-02T04:13:04.920596",
     "status": "completed"
    },
    "tags": []
   },
   "outputs": [],
   "source": [
    "def image_processing(filepath):\n",
    "    \"\"\" Create a DataFrame with the filepath and the labels of the pictures\n",
    "    \"\"\"\n",
    "\n",
    "    labels = [str(filepath[i]).split(\"/\")[-2] \\\n",
    "              for i in range(len(filepath))]\n",
    "\n",
    "    filepath = pd.Series(filepath, name='Filepath').astype(str)\n",
    "    labels = pd.Series(labels, name='Label')\n",
    "\n",
    "    # Concatenate filepaths and labels\n",
    "    df = pd.concat([filepath, labels], axis=1)\n",
    "\n",
    "    # Shuffle the DataFrame and reset index\n",
    "    df = df.sample(frac=1).reset_index(drop = True)\n",
    "    \n",
    "    return df"
   ]
  },
  {
   "cell_type": "code",
   "execution_count": 7,
   "id": "576b8db6",
   "metadata": {
    "papermill": {
     "duration": 0.057696,
     "end_time": "2021-11-02T04:13:05.042885",
     "exception": false,
     "start_time": "2021-11-02T04:13:04.985189",
     "status": "completed"
    },
    "tags": []
   },
   "outputs": [],
   "source": [
    "train_df = image_processing(train_filepaths)\n",
    "test_df = image_processing(test_filepaths)\n",
    "val_df = image_processing(val_filepaths)"
   ]
  },
  {
   "cell_type": "code",
   "execution_count": 8,
   "id": "b3f17d3f",
   "metadata": {
    "papermill": {
     "duration": 0.047893,
     "end_time": "2021-11-02T04:13:05.118332",
     "exception": false,
     "start_time": "2021-11-02T04:13:05.070439",
     "status": "completed"
    },
    "tags": []
   },
   "outputs": [
    {
     "name": "stdout",
     "output_type": "stream",
     "text": [
      "-- Training set --\n",
      "\n",
      "Number of pictures: 0\n",
      "\n",
      "Number of different labels: 0\n",
      "\n",
      "Labels: []\n"
     ]
    }
   ],
   "source": [
    "print('-- Training set --\\n')\n",
    "print(f'Number of pictures: {train_df.shape[0]}\\n')\n",
    "print(f'Number of different labels: {len(train_df.Label.unique())}\\n')\n",
    "print(f'Labels: {train_df.Label.unique()}')"
   ]
  },
  {
   "cell_type": "code",
   "execution_count": 9,
   "id": "23a5eb3b",
   "metadata": {
    "papermill": {
     "duration": 0.04621,
     "end_time": "2021-11-02T04:13:05.192799",
     "exception": false,
     "start_time": "2021-11-02T04:13:05.146589",
     "status": "completed"
    },
    "tags": []
   },
   "outputs": [
    {
     "data": {
      "text/html": [
       "<div>\n",
       "<style scoped>\n",
       "    .dataframe tbody tr th:only-of-type {\n",
       "        vertical-align: middle;\n",
       "    }\n",
       "\n",
       "    .dataframe tbody tr th {\n",
       "        vertical-align: top;\n",
       "    }\n",
       "\n",
       "    .dataframe thead th {\n",
       "        text-align: right;\n",
       "    }\n",
       "</style>\n",
       "<table border=\"1\" class=\"dataframe\">\n",
       "  <thead>\n",
       "    <tr style=\"text-align: right;\">\n",
       "      <th></th>\n",
       "      <th>Filepath</th>\n",
       "      <th>Label</th>\n",
       "    </tr>\n",
       "  </thead>\n",
       "  <tbody>\n",
       "  </tbody>\n",
       "</table>\n",
       "</div>"
      ],
      "text/plain": [
       "Empty DataFrame\n",
       "Columns: [Filepath, Label]\n",
       "Index: []"
      ]
     },
     "execution_count": 9,
     "metadata": {},
     "output_type": "execute_result"
    }
   ],
   "source": [
    "train_df.head(5)"
   ]
  },
  {
   "cell_type": "code",
   "execution_count": 10,
   "id": "01595bc1",
   "metadata": {
    "papermill": {
     "duration": 10.871892,
     "end_time": "2021-11-02T04:13:16.098658",
     "exception": false,
     "start_time": "2021-11-02T04:13:05.226766",
     "status": "completed"
    },
    "tags": []
   },
   "outputs": [
    {
     "ename": "KeyError",
     "evalue": "0",
     "output_type": "error",
     "traceback": [
      "\u001b[0;31m---------------------------------------------------------------------------\u001b[0m",
      "\u001b[0;31mValueError\u001b[0m                                Traceback (most recent call last)",
      "File \u001b[0;32m/Library/Frameworks/Python.framework/Versions/3.11/lib/python3.11/site-packages/pandas/core/indexes/range.py:414\u001b[0m, in \u001b[0;36mRangeIndex.get_loc\u001b[0;34m(self, key)\u001b[0m\n\u001b[1;32m    413\u001b[0m \u001b[38;5;28;01mtry\u001b[39;00m:\n\u001b[0;32m--> 414\u001b[0m     \u001b[38;5;28;01mreturn\u001b[39;00m \u001b[38;5;28;43mself\u001b[39;49m\u001b[38;5;241;43m.\u001b[39;49m\u001b[43m_range\u001b[49m\u001b[38;5;241;43m.\u001b[39;49m\u001b[43mindex\u001b[49m\u001b[43m(\u001b[49m\u001b[43mnew_key\u001b[49m\u001b[43m)\u001b[49m\n\u001b[1;32m    415\u001b[0m \u001b[38;5;28;01mexcept\u001b[39;00m \u001b[38;5;167;01mValueError\u001b[39;00m \u001b[38;5;28;01mas\u001b[39;00m err:\n",
      "\u001b[0;31mValueError\u001b[0m: 0 is not in range",
      "\nThe above exception was the direct cause of the following exception:\n",
      "\u001b[0;31mKeyError\u001b[0m                                  Traceback (most recent call last)",
      "Cell \u001b[0;32mIn[10], line 9\u001b[0m\n\u001b[1;32m      5\u001b[0m fig, axes \u001b[38;5;241m=\u001b[39m plt\u001b[38;5;241m.\u001b[39msubplots(nrows\u001b[38;5;241m=\u001b[39m\u001b[38;5;241m6\u001b[39m, ncols\u001b[38;5;241m=\u001b[39m\u001b[38;5;241m6\u001b[39m, figsize\u001b[38;5;241m=\u001b[39m(\u001b[38;5;241m8\u001b[39m, \u001b[38;5;241m7\u001b[39m),\n\u001b[1;32m      6\u001b[0m                         subplot_kw\u001b[38;5;241m=\u001b[39m{\u001b[38;5;124m'\u001b[39m\u001b[38;5;124mxticks\u001b[39m\u001b[38;5;124m'\u001b[39m: [], \u001b[38;5;124m'\u001b[39m\u001b[38;5;124myticks\u001b[39m\u001b[38;5;124m'\u001b[39m: []})\n\u001b[1;32m      8\u001b[0m \u001b[38;5;28;01mfor\u001b[39;00m i, ax \u001b[38;5;129;01min\u001b[39;00m \u001b[38;5;28menumerate\u001b[39m(axes\u001b[38;5;241m.\u001b[39mflat):\n\u001b[0;32m----> 9\u001b[0m     ax\u001b[38;5;241m.\u001b[39mimshow(plt\u001b[38;5;241m.\u001b[39mimread(\u001b[43mdf_unique\u001b[49m\u001b[38;5;241;43m.\u001b[39;49m\u001b[43mFilepath\u001b[49m\u001b[43m[\u001b[49m\u001b[43mi\u001b[49m\u001b[43m]\u001b[49m))\n\u001b[1;32m     10\u001b[0m     ax\u001b[38;5;241m.\u001b[39mset_title(df_unique\u001b[38;5;241m.\u001b[39mLabel[i], fontsize \u001b[38;5;241m=\u001b[39m \u001b[38;5;241m12\u001b[39m)\n\u001b[1;32m     11\u001b[0m plt\u001b[38;5;241m.\u001b[39mtight_layout(pad\u001b[38;5;241m=\u001b[39m\u001b[38;5;241m0.5\u001b[39m)\n",
      "File \u001b[0;32m/Library/Frameworks/Python.framework/Versions/3.11/lib/python3.11/site-packages/pandas/core/series.py:1040\u001b[0m, in \u001b[0;36mSeries.__getitem__\u001b[0;34m(self, key)\u001b[0m\n\u001b[1;32m   1037\u001b[0m     \u001b[38;5;28;01mreturn\u001b[39;00m \u001b[38;5;28mself\u001b[39m\u001b[38;5;241m.\u001b[39m_values[key]\n\u001b[1;32m   1039\u001b[0m \u001b[38;5;28;01melif\u001b[39;00m key_is_scalar:\n\u001b[0;32m-> 1040\u001b[0m     \u001b[38;5;28;01mreturn\u001b[39;00m \u001b[38;5;28;43mself\u001b[39;49m\u001b[38;5;241;43m.\u001b[39;49m\u001b[43m_get_value\u001b[49m\u001b[43m(\u001b[49m\u001b[43mkey\u001b[49m\u001b[43m)\u001b[49m\n\u001b[1;32m   1042\u001b[0m \u001b[38;5;66;03m# Convert generator to list before going through hashable part\u001b[39;00m\n\u001b[1;32m   1043\u001b[0m \u001b[38;5;66;03m# (We will iterate through the generator there to check for slices)\u001b[39;00m\n\u001b[1;32m   1044\u001b[0m \u001b[38;5;28;01mif\u001b[39;00m is_iterator(key):\n",
      "File \u001b[0;32m/Library/Frameworks/Python.framework/Versions/3.11/lib/python3.11/site-packages/pandas/core/series.py:1156\u001b[0m, in \u001b[0;36mSeries._get_value\u001b[0;34m(self, label, takeable)\u001b[0m\n\u001b[1;32m   1153\u001b[0m     \u001b[38;5;28;01mreturn\u001b[39;00m \u001b[38;5;28mself\u001b[39m\u001b[38;5;241m.\u001b[39m_values[label]\n\u001b[1;32m   1155\u001b[0m \u001b[38;5;66;03m# Similar to Index.get_value, but we do not fall back to positional\u001b[39;00m\n\u001b[0;32m-> 1156\u001b[0m loc \u001b[38;5;241m=\u001b[39m \u001b[38;5;28;43mself\u001b[39;49m\u001b[38;5;241;43m.\u001b[39;49m\u001b[43mindex\u001b[49m\u001b[38;5;241;43m.\u001b[39;49m\u001b[43mget_loc\u001b[49m\u001b[43m(\u001b[49m\u001b[43mlabel\u001b[49m\u001b[43m)\u001b[49m\n\u001b[1;32m   1158\u001b[0m \u001b[38;5;28;01mif\u001b[39;00m is_integer(loc):\n\u001b[1;32m   1159\u001b[0m     \u001b[38;5;28;01mreturn\u001b[39;00m \u001b[38;5;28mself\u001b[39m\u001b[38;5;241m.\u001b[39m_values[loc]\n",
      "File \u001b[0;32m/Library/Frameworks/Python.framework/Versions/3.11/lib/python3.11/site-packages/pandas/core/indexes/range.py:416\u001b[0m, in \u001b[0;36mRangeIndex.get_loc\u001b[0;34m(self, key)\u001b[0m\n\u001b[1;32m    414\u001b[0m         \u001b[38;5;28;01mreturn\u001b[39;00m \u001b[38;5;28mself\u001b[39m\u001b[38;5;241m.\u001b[39m_range\u001b[38;5;241m.\u001b[39mindex(new_key)\n\u001b[1;32m    415\u001b[0m     \u001b[38;5;28;01mexcept\u001b[39;00m \u001b[38;5;167;01mValueError\u001b[39;00m \u001b[38;5;28;01mas\u001b[39;00m err:\n\u001b[0;32m--> 416\u001b[0m         \u001b[38;5;28;01mraise\u001b[39;00m \u001b[38;5;167;01mKeyError\u001b[39;00m(key) \u001b[38;5;28;01mfrom\u001b[39;00m \u001b[38;5;21;01merr\u001b[39;00m\n\u001b[1;32m    417\u001b[0m \u001b[38;5;28;01mif\u001b[39;00m \u001b[38;5;28misinstance\u001b[39m(key, Hashable):\n\u001b[1;32m    418\u001b[0m     \u001b[38;5;28;01mraise\u001b[39;00m \u001b[38;5;167;01mKeyError\u001b[39;00m(key)\n",
      "\u001b[0;31mKeyError\u001b[0m: 0"
     ]
    },
    {
     "data": {
      "image/png": "[encoded data removed]",
      "text/plain": [
       "<Figure size 800x700 with 36 Axes>"
      ]
     },
     "metadata": {},
     "output_type": "display_data"
    }
   ],
   "source": [
    "# Create a DataFrame with one Label of each category\n",
    "df_unique = train_df.copy().drop_duplicates(subset=[\"Label\"]).reset_index()\n",
    "\n",
    "# Display some pictures of the dataset\n",
    "fig, axes = plt.subplots(nrows=6, ncols=6, figsize=(8, 7),\n",
    "                        subplot_kw={'xticks': [], 'yticks': []})\n",
    "\n",
    "for i, ax in enumerate(axes.flat):\n",
    "    ax.imshow(plt.imread(df_unique.Filepath[i]))\n",
    "    ax.set_title(df_unique.Label[i], fontsize = 12)\n",
    "plt.tight_layout(pad=0.5)\n",
    "plt.show()"
   ]
  },
  {
   "cell_type": "code",
   "execution_count": 11,
   "id": "726c5e0e",
   "metadata": {
    "execution": {
     "iopub.execute_input": "2021-11-02T04:13:16.181900Z",
     "iopub.status.busy": "2021-11-02T04:13:16.180971Z",
     "iopub.status.idle": "2021-11-02T04:13:16.183792Z",
     "shell.execute_reply": "2021-11-02T04:13:16.183306Z",
     "shell.execute_reply.started": "2021-11-02T04:11:43.469733Z"
    },
    "papermill": {
     "duration": 0.046673,
     "end_time": "2021-11-02T04:13:16.183927",
     "exception": false,
     "start_time": "2021-11-02T04:13:16.137254",
     "status": "completed"
    },
    "tags": []
   },
   "outputs": [],
   "source": [
    "train_generator = tf.keras.preprocessing.image.ImageDataGenerator(\n",
    "    preprocessing_function=tf.keras.applications.mobilenet_v2.preprocess_input\n",
    ")\n",
    "\n",
    "test_generator = tf.keras.preprocessing.image.ImageDataGenerator(\n",
    "    preprocessing_function=tf.keras.applications.mobilenet_v2.preprocess_input\n",
    ")"
   ]
  },
  {
   "cell_type": "code",
   "execution_count": 12,
   "id": "412ef763",
   "metadata": {
    "execution": {
     "iopub.execute_input": "2021-11-02T04:13:16.266539Z",
     "iopub.status.busy": "2021-11-02T04:13:16.265850Z",
     "iopub.status.idle": "2021-11-02T04:13:17.374402Z",
     "shell.execute_reply": "2021-11-02T04:13:17.374945Z",
     "shell.execute_reply.started": "2021-11-02T04:11:44.672539Z"
    },
    "papermill": {
     "duration": 1.153017,
     "end_time": "2021-11-02T04:13:17.375112",
     "exception": false,
     "start_time": "2021-11-02T04:13:16.222095",
     "status": "completed"
    },
    "tags": []
   },
   "outputs": [
    {
     "name": "stdout",
     "output_type": "stream",
     "text": [
      "Found 3193 validated image filenames belonging to 36 classes.\n"
     ]
    }
   ],
   "source": [
    "train_images = train_generator.flow_from_dataframe(\n",
    "    dataframe=train_df,\n",
    "    x_col='Filepath',\n",
    "    y_col='Label',\n",
    "    target_size=(224, 224),\n",
    "    color_mode='rgb',\n",
    "    class_mode='categorical',\n",
    "    batch_size=32,\n",
    "    shuffle=True,\n",
    "    seed=0,\n",
    "    rotation_range=30,\n",
    "    zoom_range=0.15,\n",
    "    width_shift_range=0.2,\n",
    "    height_shift_range=0.2,\n",
    "    shear_range=0.15,\n",
    "    horizontal_flip=True,\n",
    "    fill_mode=\"nearest\"\n",
    ")"
   ]
  },
  {
   "cell_type": "code",
   "execution_count": 13,
   "id": "fe1d1204",
   "metadata": {
    "execution": {
     "iopub.execute_input": "2021-11-02T04:13:17.463897Z",
     "iopub.status.busy": "2021-11-02T04:13:17.458664Z",
     "iopub.status.idle": "2021-11-02T04:13:17.576668Z",
     "shell.execute_reply": "2021-11-02T04:13:17.575749Z",
     "shell.execute_reply.started": "2021-11-02T04:11:45.920630Z"
    },
    "papermill": {
     "duration": 0.160302,
     "end_time": "2021-11-02T04:13:17.576817",
     "exception": false,
     "start_time": "2021-11-02T04:13:17.416515",
     "status": "completed"
    },
    "tags": []
   },
   "outputs": [
    {
     "name": "stdout",
     "output_type": "stream",
     "text": [
      "Found 334 validated image filenames belonging to 36 classes.\n"
     ]
    }
   ],
   "source": [
    "val_images = train_generator.flow_from_dataframe(\n",
    "    dataframe=val_df,\n",
    "    x_col='Filepath',\n",
    "    y_col='Label',\n",
    "    target_size=(224, 224),\n",
    "    color_mode='rgb',\n",
    "    class_mode='categorical',\n",
    "    batch_size=32,\n",
    "    shuffle=True,\n",
    "    seed=0,\n",
    "    rotation_range=30,\n",
    "    zoom_range=0.15,\n",
    "    width_shift_range=0.2,\n",
    "    height_shift_range=0.2,\n",
    "    shear_range=0.15,\n",
    "    horizontal_flip=True,\n",
    "    fill_mode=\"nearest\"\n",
    ")"
   ]
  },
  {
   "cell_type": "code",
   "execution_count": 14,
   "id": "fe81357a",
   "metadata": {
    "execution": {
     "iopub.execute_input": "2021-11-02T04:13:17.662940Z",
     "iopub.status.busy": "2021-11-02T04:13:17.662340Z",
     "iopub.status.idle": "2021-11-02T04:13:17.671190Z",
     "shell.execute_reply": "2021-11-02T04:13:17.671770Z",
     "shell.execute_reply.started": "2021-11-02T04:11:48.652854Z"
    },
    "papermill": {
     "duration": 0.055483,
     "end_time": "2021-11-02T04:13:17.671924",
     "exception": false,
     "start_time": "2021-11-02T04:13:17.616441",
     "status": "completed"
    },
    "tags": []
   },
   "outputs": [
    {
     "name": "stdout",
     "output_type": "stream",
     "text": [
      "Found 334 validated image filenames belonging to 36 classes.\n"
     ]
    }
   ],
   "source": [
    "test_images = test_generator.flow_from_dataframe(\n",
    "    dataframe=test_df,\n",
    "    x_col='Filepath',\n",
    "    y_col='Label',\n",
    "    target_size=(224, 224),\n",
    "    color_mode='rgb',\n",
    "    class_mode='categorical',\n",
    "    batch_size=32,\n",
    "    shuffle=False\n",
    ")"
   ]
  },
  {
   "cell_type": "code",
   "execution_count": 15,
   "id": "04c38c17",
   "metadata": {
    "execution": {
     "iopub.execute_input": "2021-11-02T04:13:17.755230Z",
     "iopub.status.busy": "2021-11-02T04:13:17.754369Z",
     "iopub.status.idle": "2021-11-02T04:13:19.035013Z",
     "shell.execute_reply": "2021-11-02T04:13:19.035515Z",
     "shell.execute_reply.started": "2021-11-02T04:11:53.021156Z"
    },
    "papermill": {
     "duration": 1.323729,
     "end_time": "2021-11-02T04:13:19.035695",
     "exception": false,
     "start_time": "2021-11-02T04:13:17.711966",
     "status": "completed"
    },
    "tags": []
   },
   "outputs": [
    {
     "name": "stderr",
     "output_type": "stream",
     "text": [
      "\n",
      "User settings:\n",
      "\n",
      "   KMP_AFFINITY=granularity=fine,verbose,compact,1,0\n",
      "   KMP_BLOCKTIME=0\n",
      "   KMP_SETTINGS=1\n",
      "   KMP_WARNINGS=0\n",
      "\n",
      "Effective settings:\n",
      "\n",
      "   KMP_ABORT_DELAY=0\n",
      "   KMP_ADAPTIVE_LOCK_PROPS='1,1024'\n",
      "   KMP_ALIGN_ALLOC=64\n",
      "   KMP_ALL_THREADPRIVATE=128\n",
      "   KMP_ATOMIC_MODE=2\n",
      "   KMP_BLOCKTIME=0\n",
      "   KMP_CPUINFO_FILE: value is not defined\n",
      "   KMP_DETERMINISTIC_REDUCTION=false\n",
      "   KMP_DEVICE_THREAD_LIMIT=2147483647\n",
      "   KMP_DISP_NUM_BUFFERS=7\n",
      "   KMP_DUPLICATE_LIB_OK=false\n",
      "   KMP_ENABLE_TASK_THROTTLING=true\n",
      "   KMP_FORCE_REDUCTION: value is not defined\n",
      "   KMP_FOREIGN_THREADS_THREADPRIVATE=true\n",
      "   KMP_FORKJOIN_BARRIER='2,2'\n",
      "   KMP_FORKJOIN_BARRIER_PATTERN='hyper,hyper'\n",
      "   KMP_GTID_MODE=3\n",
      "   KMP_HANDLE_SIGNALS=false\n",
      "   KMP_HOT_TEAMS_MAX_LEVEL=1\n",
      "   KMP_HOT_TEAMS_MODE=0\n",
      "   KMP_INIT_AT_FORK=true\n",
      "   KMP_LIBRARY=throughput\n",
      "   KMP_LOCK_KIND=queuing\n",
      "   KMP_MALLOC_POOL_INCR=1M\n",
      "   KMP_NUM_LOCKS_IN_BLOCK=1\n",
      "   KMP_PLAIN_BARRIER='2,2'\n",
      "   KMP_PLAIN_BARRIER_PATTERN='hyper,hyper'\n",
      "   KMP_REDUCTION_BARRIER='1,1'\n",
      "   KMP_REDUCTION_BARRIER_PATTERN='hyper,hyper'\n",
      "   KMP_SCHEDULE='static,balanced;guided,iterative'\n",
      "   KMP_SETTINGS=true\n",
      "   KMP_SPIN_BACKOFF_PARAMS='4096,100'\n",
      "   KMP_STACKOFFSET=64\n",
      "   KMP_STACKPAD=0\n",
      "   KMP_STACKSIZE=8M\n",
      "   KMP_STORAGE_MAP=false\n",
      "   KMP_TASKING=2\n",
      "   KMP_TASKLOOP_MIN_TASKS=0\n",
      "   KMP_TASK_STEALING_CONSTRAINT=1\n",
      "   KMP_TEAMS_THREAD_LIMIT=4\n",
      "   KMP_TOPOLOGY_METHOD=all\n",
      "   KMP_USE_YIELD=1\n",
      "   KMP_VERSION=false\n",
      "   KMP_WARNINGS=false\n",
      "   OMP_AFFINITY_FORMAT='OMP: pid %P tid %i thread %n bound to OS proc set {%A}'\n",
      "   OMP_ALLOCATOR=omp_default_mem_alloc\n",
      "   OMP_CANCELLATION=false\n",
      "   OMP_DEFAULT_DEVICE=0\n",
      "   OMP_DISPLAY_AFFINITY=false\n",
      "   OMP_DISPLAY_ENV=false\n",
      "   OMP_DYNAMIC=false\n",
      "   OMP_MAX_ACTIVE_LEVELS=1\n",
      "   OMP_MAX_TASK_PRIORITY=0\n",
      "   OMP_NESTED: deprecated; max-active-levels-var=1\n",
      "   OMP_NUM_THREADS: value is not defined\n",
      "   OMP_PLACES: value is not defined\n",
      "   OMP_PROC_BIND='intel'\n",
      "   OMP_SCHEDULE='static'\n",
      "   OMP_STACKSIZE=8M\n",
      "   OMP_TARGET_OFFLOAD=DEFAULT\n",
      "   OMP_THREAD_LIMIT=2147483647\n",
      "   OMP_WAIT_POLICY=PASSIVE\n",
      "   KMP_AFFINITY='verbose,warnings,respect,granularity=fine,compact,1,0'\n",
      "\n",
      "2021-11-02 04:13:17.809870: I tensorflow/core/common_runtime/process_util.cc:146] Creating new thread pool with default inter op setting: 2. Tune using inter_op_parallelism_threads for best performance.\n"
     ]
    },
    {
     "name": "stdout",
     "output_type": "stream",
     "text": [
      "Downloading data from https://storage.googleapis.com/tensorflow/keras-applications/mobilenet_v2/mobilenet_v2_weights_tf_dim_ordering_tf_kernels_1.0_224_no_top.h5\n",
      "9412608/9406464 [==============================] - 0s 0us/step\n",
      "9420800/9406464 [==============================] - 0s 0us/step\n"
     ]
    }
   ],
   "source": [
    "pretrained_model = tf.keras.applications.MobileNetV2(\n",
    "    input_shape=(224, 224, 3),\n",
    "    include_top=False,\n",
    "    weights='imagenet',\n",
    "    pooling='avg'\n",
    ")\n",
    "pretrained_model.trainable = False"
   ]
  },
  {
   "cell_type": "code",
   "execution_count": 16,
   "id": "0ca682b9",
   "metadata": {
    "execution": {
     "iopub.execute_input": "2021-11-02T04:13:19.131815Z",
     "iopub.status.busy": "2021-11-02T04:13:19.131122Z",
     "iopub.status.idle": "2021-11-02T04:31:02.144919Z",
     "shell.execute_reply": "2021-11-02T04:31:02.145666Z"
    },
    "papermill": {
     "duration": 1063.069756,
     "end_time": "2021-11-02T04:31:02.146034",
     "exception": false,
     "start_time": "2021-11-02T04:13:19.076278",
     "status": "completed"
    },
    "tags": []
   },
   "outputs": [
    {
     "name": "stderr",
     "output_type": "stream",
     "text": [
      "2021-11-02 04:13:22.782652: I tensorflow/compiler/mlir/mlir_graph_optimization_pass.cc:185] None of the MLIR Optimization Passes are enabled (registered 2)\n"
     ]
    },
    {
     "name": "stdout",
     "output_type": "stream",
     "text": [
      "Epoch 1/5\n",
      "  2/100 [..............................] - ETA: 2:33 - loss: 3.6501 - accuracy: 0.0469"
     ]
    },
    {
     "name": "stderr",
     "output_type": "stream",
     "text": [
      "/opt/conda/lib/python3.7/site-packages/PIL/Image.py:963: UserWarning: Palette images with Transparency expressed in bytes should be converted to RGBA images\n",
      "  \"Palette images with Transparency expressed in bytes should be \"\n"
     ]
    },
    {
     "name": "stdout",
     "output_type": "stream",
     "text": [
      "100/100 [==============================] - 226s 2s/step - loss: 1.9120 - accuracy: 0.4933 - val_loss: 0.4976 - val_accuracy: 0.8383\n",
      "Epoch 2/5\n",
      "100/100 [==============================] - 189s 2s/step - loss: 0.7049 - accuracy: 0.7820 - val_loss: 0.2377 - val_accuracy: 0.9341\n",
      "Epoch 3/5\n",
      "100/100 [==============================] - 175s 2s/step - loss: 0.4369 - accuracy: 0.8675 - val_loss: 0.1612 - val_accuracy: 0.9521\n",
      "Epoch 4/5\n",
      "100/100 [==============================] - 182s 2s/step - loss: 0.2701 - accuracy: 0.9226 - val_loss: 0.1267 - val_accuracy: 0.9551\n",
      "Epoch 5/5\n",
      "100/100 [==============================] - 184s 2s/step - loss: 0.1790 - accuracy: 0.9417 - val_loss: 0.1094 - val_accuracy: 0.9521\n"
     ]
    }
   ],
   "source": [
    "inputs = pretrained_model.input\n",
    "\n",
    "x = tf.keras.layers.Dense(128, activation='relu')(pretrained_model.output)\n",
    "x = tf.keras.layers.Dense(128, activation='relu')(x)\n",
    "\n",
    "outputs = tf.keras.layers.Dense(36, activation='softmax')(x)\n",
    "\n",
    "model = tf.keras.Model(inputs=inputs, outputs=outputs)\n",
    "\n",
    "model.compile(\n",
    "    optimizer='adam',\n",
    "    loss='categorical_crossentropy',\n",
    "    metrics=['accuracy']\n",
    ")\n",
    "\n",
    "history = model.fit(\n",
    "    train_images,\n",
    "    validation_data=val_images,\n",
    "    batch_size = 32,\n",
    "    epochs=5,\n",
    "    callbacks=[\n",
    "        tf.keras.callbacks.EarlyStopping(\n",
    "            monitor='val_loss',\n",
    "            patience=2,\n",
    "            restore_best_weights=True\n",
    "        )\n",
    "    ]\n",
    ")"
   ]
  },
  {
   "cell_type": "code",
   "execution_count": 17,
   "id": "a53e0525",
   "metadata": {
    "execution": {
     "iopub.execute_input": "2021-11-02T04:31:02.549385Z",
     "iopub.status.busy": "2021-11-02T04:31:02.548687Z",
     "iopub.status.idle": "2021-11-02T04:31:26.164039Z",
     "shell.execute_reply": "2021-11-02T04:31:26.163494Z",
     "shell.execute_reply.started": "2021-10-21T13:12:06.535104Z"
    },
    "papermill": {
     "duration": 23.821524,
     "end_time": "2021-11-02T04:31:26.164167",
     "exception": false,
     "start_time": "2021-11-02T04:31:02.342643",
     "status": "completed"
    },
    "tags": []
   },
   "outputs": [
    {
     "data": {
      "text/plain": [
       "['bell pepper',\n",
       " 'carrot',\n",
       " 'cauliflower',\n",
       " 'paprika',\n",
       " 'mango',\n",
       " 'jalepeno',\n",
       " 'pear',\n",
       " 'beetroot',\n",
       " 'raddish',\n",
       " 'sweetpotato',\n",
       " 'soy beans',\n",
       " 'chilli pepper',\n",
       " 'pear',\n",
       " 'paprika',\n",
       " 'turnip',\n",
       " 'spinach',\n",
       " 'raddish',\n",
       " 'sweetcorn',\n",
       " 'potato',\n",
       " 'watermelon',\n",
       " 'orange',\n",
       " 'grapes',\n",
       " 'spinach',\n",
       " 'tomato',\n",
       " 'pear',\n",
       " 'turnip',\n",
       " 'bell pepper',\n",
       " 'lemon',\n",
       " 'onion',\n",
       " 'mango',\n",
       " 'bell pepper',\n",
       " 'peas',\n",
       " 'onion',\n",
       " 'soy beans',\n",
       " 'beetroot',\n",
       " 'tomato',\n",
       " 'sweetpotato',\n",
       " 'carrot',\n",
       " 'lemon',\n",
       " 'eggplant',\n",
       " 'tomato',\n",
       " 'eggplant',\n",
       " 'bell pepper',\n",
       " 'spinach',\n",
       " 'sweetpotato',\n",
       " 'pomegranate',\n",
       " 'cucumber',\n",
       " 'raddish',\n",
       " 'paprika',\n",
       " 'lettuce',\n",
       " 'peas',\n",
       " 'apple',\n",
       " 'ginger',\n",
       " 'pomegranate',\n",
       " 'ginger',\n",
       " 'sweetcorn',\n",
       " 'pomegranate',\n",
       " 'lemon',\n",
       " 'raddish',\n",
       " 'apple',\n",
       " 'beetroot',\n",
       " 'cauliflower',\n",
       " 'lettuce',\n",
       " 'pineapple',\n",
       " 'jalepeno',\n",
       " 'carrot',\n",
       " 'garlic',\n",
       " 'sweetcorn',\n",
       " 'onion',\n",
       " 'bell pepper',\n",
       " 'chilli pepper',\n",
       " 'kiwi',\n",
       " 'paprika',\n",
       " 'sweetpotato',\n",
       " 'watermelon',\n",
       " 'raddish',\n",
       " 'grapes',\n",
       " 'paprika',\n",
       " 'pineapple',\n",
       " 'lettuce',\n",
       " 'spinach',\n",
       " 'mango',\n",
       " 'bell pepper',\n",
       " 'apple',\n",
       " 'lettuce',\n",
       " 'soy beans',\n",
       " 'paprika',\n",
       " 'spinach',\n",
       " 'potato',\n",
       " 'ginger',\n",
       " 'onion',\n",
       " 'tomato',\n",
       " 'cabbage',\n",
       " 'sweetcorn',\n",
       " 'turnip',\n",
       " 'eggplant',\n",
       " 'watermelon',\n",
       " 'sweetcorn',\n",
       " 'peas',\n",
       " 'sweetcorn',\n",
       " 'orange',\n",
       " 'sweetcorn',\n",
       " 'peas',\n",
       " 'soy beans',\n",
       " 'banana',\n",
       " 'apple',\n",
       " 'watermelon',\n",
       " 'cucumber',\n",
       " 'mango',\n",
       " 'spinach',\n",
       " 'tomato',\n",
       " 'kiwi',\n",
       " 'potato',\n",
       " 'lemon',\n",
       " 'soy beans',\n",
       " 'pear',\n",
       " 'grapes',\n",
       " 'spinach',\n",
       " 'potato',\n",
       " 'bell pepper',\n",
       " 'tomato',\n",
       " 'tomato',\n",
       " 'ginger',\n",
       " 'grapes',\n",
       " 'sweetcorn',\n",
       " 'cucumber',\n",
       " 'garlic',\n",
       " 'pineapple',\n",
       " 'beetroot',\n",
       " 'spinach',\n",
       " 'peas',\n",
       " 'onion',\n",
       " 'ginger',\n",
       " 'cucumber',\n",
       " 'pineapple',\n",
       " 'pomegranate',\n",
       " 'bell pepper',\n",
       " 'cauliflower',\n",
       " 'apple',\n",
       " 'cauliflower',\n",
       " 'bell pepper',\n",
       " 'watermelon',\n",
       " 'turnip',\n",
       " 'watermelon',\n",
       " 'banana',\n",
       " 'garlic',\n",
       " 'pineapple',\n",
       " 'jalepeno',\n",
       " 'banana',\n",
       " 'grapes',\n",
       " 'lemon',\n",
       " 'cauliflower',\n",
       " 'beetroot',\n",
       " 'onion',\n",
       " 'pear',\n",
       " 'apple',\n",
       " 'sweetcorn',\n",
       " 'sweetpotato',\n",
       " 'mango',\n",
       " 'watermelon',\n",
       " 'bell pepper',\n",
       " 'lemon',\n",
       " 'pear',\n",
       " 'sweetcorn',\n",
       " 'garlic',\n",
       " 'bell pepper',\n",
       " 'soy beans',\n",
       " 'ginger',\n",
       " 'lettuce',\n",
       " 'peas',\n",
       " 'garlic',\n",
       " 'cabbage',\n",
       " 'eggplant',\n",
       " 'pineapple',\n",
       " 'turnip',\n",
       " 'orange',\n",
       " 'pineapple',\n",
       " 'sweetcorn',\n",
       " 'cabbage',\n",
       " 'paprika',\n",
       " 'soy beans',\n",
       " 'raddish',\n",
       " 'jalepeno',\n",
       " 'banana',\n",
       " 'sweetcorn',\n",
       " 'soy beans',\n",
       " 'ginger',\n",
       " 'kiwi',\n",
       " 'pomegranate',\n",
       " 'peas',\n",
       " 'cauliflower',\n",
       " 'ginger',\n",
       " 'eggplant',\n",
       " 'mango',\n",
       " 'chilli pepper',\n",
       " 'paprika',\n",
       " 'tomato',\n",
       " 'garlic',\n",
       " 'cauliflower',\n",
       " 'capsicum',\n",
       " 'chilli pepper',\n",
       " 'potato',\n",
       " 'watermelon',\n",
       " 'jalepeno',\n",
       " 'eggplant',\n",
       " 'pear',\n",
       " 'cauliflower',\n",
       " 'lettuce',\n",
       " 'soy beans',\n",
       " 'grapes',\n",
       " 'eggplant',\n",
       " 'kiwi',\n",
       " 'garlic',\n",
       " 'sweetcorn',\n",
       " 'turnip',\n",
       " 'cucumber',\n",
       " 'eggplant',\n",
       " 'beetroot',\n",
       " 'sweetcorn',\n",
       " 'pomegranate',\n",
       " 'watermelon',\n",
       " 'cabbage',\n",
       " 'lettuce',\n",
       " 'bell pepper',\n",
       " 'orange',\n",
       " 'potato',\n",
       " 'cabbage',\n",
       " 'cucumber',\n",
       " 'pineapple',\n",
       " 'raddish',\n",
       " 'sweetcorn',\n",
       " 'cucumber',\n",
       " 'turnip',\n",
       " 'pear',\n",
       " 'pomegranate',\n",
       " 'mango',\n",
       " 'raddish',\n",
       " 'lettuce',\n",
       " 'potato',\n",
       " 'eggplant',\n",
       " 'spinach',\n",
       " 'cabbage',\n",
       " 'spinach',\n",
       " 'cabbage',\n",
       " 'kiwi',\n",
       " 'pineapple',\n",
       " 'carrot',\n",
       " 'pomegranate',\n",
       " 'garlic',\n",
       " 'sweetcorn',\n",
       " 'eggplant',\n",
       " 'kiwi',\n",
       " 'cucumber',\n",
       " 'pear',\n",
       " 'corn',\n",
       " 'soy beans',\n",
       " 'onion',\n",
       " 'tomato',\n",
       " 'mango',\n",
       " 'bell pepper',\n",
       " 'cabbage',\n",
       " 'bell pepper',\n",
       " 'sweetpotato',\n",
       " 'pear',\n",
       " 'orange',\n",
       " 'kiwi',\n",
       " 'tomato',\n",
       " 'grapes',\n",
       " 'turnip',\n",
       " 'apple',\n",
       " 'banana',\n",
       " 'peas',\n",
       " 'ginger',\n",
       " 'carrot',\n",
       " 'kiwi',\n",
       " 'beetroot',\n",
       " 'cucumber',\n",
       " 'garlic',\n",
       " 'turnip',\n",
       " 'chilli pepper',\n",
       " 'orange',\n",
       " 'kiwi',\n",
       " 'lettuce',\n",
       " 'capsicum',\n",
       " 'mango',\n",
       " 'banana',\n",
       " 'pineapple',\n",
       " 'jalepeno',\n",
       " 'jalepeno',\n",
       " 'potato',\n",
       " 'jalepeno',\n",
       " 'jalepeno',\n",
       " 'beetroot',\n",
       " 'ginger',\n",
       " 'cabbage',\n",
       " 'carrot',\n",
       " 'lemon',\n",
       " 'bell pepper',\n",
       " 'sweetcorn',\n",
       " 'sweetcorn',\n",
       " 'orange',\n",
       " 'cucumber',\n",
       " 'grapes',\n",
       " 'pomegranate',\n",
       " 'kiwi',\n",
       " 'cabbage',\n",
       " 'apple',\n",
       " 'sweetpotato',\n",
       " 'potato',\n",
       " 'banana',\n",
       " 'onion',\n",
       " 'apple',\n",
       " 'beetroot',\n",
       " 'turnip',\n",
       " 'carrot',\n",
       " 'sweetpotato',\n",
       " 'onion',\n",
       " 'chilli pepper',\n",
       " 'sweetcorn',\n",
       " 'chilli pepper',\n",
       " 'sweetpotato',\n",
       " 'sweetpotato',\n",
       " 'mango',\n",
       " 'banana',\n",
       " 'cauliflower',\n",
       " 'chilli pepper',\n",
       " 'garlic',\n",
       " 'watermelon',\n",
       " 'banana',\n",
       " 'beetroot',\n",
       " 'pomegranate',\n",
       " 'paprika',\n",
       " 'peas',\n",
       " 'paprika']"
      ]
     },
     "execution_count": 17,
     "metadata": {},
     "output_type": "execute_result"
    }
   ],
   "source": [
    "# Predict the label of the test_images\n",
    "pred = model.predict(test_images)\n",
    "pred = np.argmax(pred,axis=1)\n",
    "# Map the label\n",
    "labels = (train_images.class_indices)\n",
    "labels = dict((v,k) for k,v in labels.items())\n",
    "pred1 = [labels[k] for k in pred]\n",
    "pred1"
   ]
  },
  {
   "cell_type": "code",
   "execution_count": 18,
   "id": "8d8f87b3",
   "metadata": {
    "execution": {
     "iopub.execute_input": "2021-11-02T04:31:26.560442Z",
     "iopub.status.busy": "2021-11-02T04:31:26.559801Z",
     "iopub.status.idle": "2021-11-02T04:31:26.565525Z",
     "shell.execute_reply": "2021-11-02T04:31:26.566083Z",
     "shell.execute_reply.started": "2021-10-21T13:12:26.534404Z"
    },
    "papermill": {
     "duration": 0.207631,
     "end_time": "2021-11-02T04:31:26.566270",
     "exception": false,
     "start_time": "2021-11-02T04:31:26.358639",
     "status": "completed"
    },
    "tags": []
   },
   "outputs": [],
   "source": [
    "def output(location):\n",
    "    img=load_img(location,target_size=(224,224,3))\n",
    "    img=img_to_array(img)\n",
    "    img=img/255\n",
    "    img=np.expand_dims(img,[0])\n",
    "    answer=model.predict(img)\n",
    "    y_class = answer.argmax(axis=-1)\n",
    "    y = \" \".join(str(x) for x in y_class)\n",
    "    y = int(y)\n",
    "    res = labels[y]\n",
    "    return res"
   ]
  },
  {
   "cell_type": "code",
   "execution_count": 19,
   "id": "673ef9c8",
   "metadata": {
    "execution": {
     "iopub.execute_input": "2021-11-02T04:31:26.958120Z",
     "iopub.status.busy": "2021-11-02T04:31:26.957452Z",
     "iopub.status.idle": "2021-11-02T04:31:28.178053Z",
     "shell.execute_reply": "2021-11-02T04:31:28.178677Z",
     "shell.execute_reply.started": "2021-10-21T13:12:26.543016Z"
    },
    "papermill": {
     "duration": 1.419014,
     "end_time": "2021-11-02T04:31:28.178859",
     "exception": false,
     "start_time": "2021-11-02T04:31:26.759845",
     "status": "completed"
    },
    "tags": []
   },
   "outputs": [
    {
     "data": {
      "text/plain": [
       "'cabbage'"
      ]
     },
     "execution_count": 19,
     "metadata": {},
     "output_type": "execute_result"
    }
   ],
   "source": [
    "img = output('../input/fruit-and-vegetable-image-recognition/test/cabbage/Image_1.jpg')\n",
    "img"
   ]
  },
  {
   "cell_type": "code",
   "execution_count": 20,
   "id": "99a97c02",
   "metadata": {
    "execution": {
     "iopub.execute_input": "2021-11-02T04:31:28.576710Z",
     "iopub.status.busy": "2021-11-02T04:31:28.576072Z",
     "iopub.status.idle": "2021-11-02T04:31:28.888152Z",
     "shell.execute_reply": "2021-11-02T04:31:28.888651Z",
     "shell.execute_reply.started": "2021-10-21T13:15:16.791784Z"
    },
    "papermill": {
     "duration": 0.513092,
     "end_time": "2021-11-02T04:31:28.888839",
     "exception": false,
     "start_time": "2021-11-02T04:31:28.375747",
     "status": "completed"
    },
    "tags": []
   },
   "outputs": [
    {
     "name": "stderr",
     "output_type": "stream",
     "text": [
      "/opt/conda/lib/python3.7/site-packages/keras/utils/generic_utils.py:497: CustomMaskWarning: Custom mask layers require a config and must override get_config. When loading, the custom mask layer must be passed to the custom_objects argument.\n",
      "  category=CustomMaskWarning)\n"
     ]
    }
   ],
   "source": [
    "model.save('FV.h5')"
   ]
  },
  {
   "cell_type": "code",
   "execution_count": null,
   "id": "34db5d8a",
   "metadata": {
    "papermill": {
     "duration": 0.195092,
     "end_time": "2021-11-02T04:31:29.281451",
     "exception": false,
     "start_time": "2021-11-02T04:31:29.086359",
     "status": "completed"
    },
    "tags": []
   },
   "outputs": [],
   "source": []
  }
 ],
 "metadata": {
  "kernelspec": {
   "display_name": "Python 3 (ipykernel)",
   "language": "python",
   "name": "python3"
  },
  "language_info": {
   "codemirror_mode": {
    "name": "ipython",
    "version": 3
   },
   "file_extension": ".py",
   "mimetype": "text/x-python",
   "name": "python",
   "nbconvert_exporter": "python",
   "pygments_lexer": "ipython3",
   "version": "3.11.4"
  },
  "papermill": {
   "default_parameters": {},
   "duration": 1124.050414,
   "end_time": "2021-11-02T04:31:32.927130",
   "environment_variables": {},
   "exception": null,
   "input_path": "__notebook__.ipynb",
   "output_path": "__notebook__.ipynb",
   "parameters": {},
   "start_time": "2021-11-02T04:12:48.876716",
   "version": "2.3.3"
  }
 },
 "nbformat": 4,
 "nbformat_minor": 5
}
